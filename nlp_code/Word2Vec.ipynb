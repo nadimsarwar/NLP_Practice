{
 "cells": [
  {
   "cell_type": "markdown",
   "id": "bf0c374d",
   "metadata": {},
   "source": [
    "'''\n",
    "Created on Mon jan 10 10:59 AM 2022\n",
    "\n",
    "@author: Md. Nadim Sarwar\n",
    "\n",
    "'''"
   ]
  },
  {
   "cell_type": "markdown",
   "id": "2ec5ff57",
   "metadata": {},
   "source": [
    "# importing libraries"
   ]
  },
  {
   "cell_type": "code",
   "execution_count": 1,
   "id": "c59403b7",
   "metadata": {},
   "outputs": [],
   "source": [
    "import nltk\n",
    "import re\n",
    "from gensim.models import Word2Vec\n",
    "from nltk.corpus import stopwords"
   ]
  },
  {
   "cell_type": "markdown",
   "id": "4e74e222",
   "metadata": {},
   "source": [
    "# Paragraph"
   ]
  },
  {
   "cell_type": "code",
   "execution_count": 39,
   "id": "4291a783",
   "metadata": {},
   "outputs": [],
   "source": [
    "para = '''\n",
    "\n",
    "I am come amongst you, as you see,        at this time, not for my recreation and disport, \n",
    "but being resolved, in the midst and heat of the battle, to live and die amongst you all;\n",
    "to lay down for my God, and for my kingdom, and my people, my honour and my blood, even in the dust. \n",
    "I know I have the body but of a weak and feeble woman; but I have the heart and stomach of a king, \n",
    "and of a king of England too, and think foul scorn that Parma or Spain, or any prince of Europe, \n",
    "should dare to invade the borders of my realm; to which rather than any dishonour shall grow by me, \n",
    "I myself will take up arms, I myself will be your general, judge, and rewarder of every one of your virtues in the field.\n",
    "I have a dream that one day down in Alabama, with its vicious racists, with its governor having his lips dripping with the words of interposition and nullification – one day right there in Alabama little black boys and black girls will be able to join hands with little white boys and white girls as sisters and brothers.\n",
    "\n",
    "I have a dream today.\n",
    "\n",
    "I have a dream that one day every valley shall be exalted and every hill and mountain shall be made low, \n",
    "the rough places will be made plain, and the crooked places will be made straight, \n",
    "and the glory of the Lord shall be revealed and all flesh shall see it together.\n",
    "'''"
   ]
  },
  {
   "cell_type": "markdown",
   "id": "81342db3",
   "metadata": {},
   "source": [
    "# Processing test"
   ]
  },
  {
   "cell_type": "code",
   "execution_count": 50,
   "id": "c3b70d2b",
   "metadata": {},
   "outputs": [],
   "source": [
    "text = re.sub(r'\\[[0-9]*\\]',' ',para) #remove [123] type formating numbers\n",
    "text = text.lower() #convert all in lower case\n",
    "text = re.sub(r'\\d',' ',text) #remove digits\n",
    "text = re.sub(r'\\s+',' ',text) #remove extra space\n",
    "text = re.sub(r'([a-z]) – ([a-z])',' ',text) #removing abc – abc\n",
    "# print(text)"
   ]
  },
  {
   "cell_type": "markdown",
   "id": "435b9098",
   "metadata": {},
   "source": [
    "# preparing data"
   ]
  },
  {
   "cell_type": "code",
   "execution_count": 51,
   "id": "86124dce",
   "metadata": {},
   "outputs": [],
   "source": [
    "sentence = nltk.sent_tokenize(text)\n",
    "# print(sentence)\n",
    "\n",
    "words = [nltk.word_tokenize(sent) for sent in sentence]\n",
    "# print(words)\n",
    "\n",
    "for i in range(len(words)):\n",
    "    words[i] = [word for word in words[i] if word not in stopwords.words('english')]\n",
    "#     print(words[i])"
   ]
  },
  {
   "cell_type": "markdown",
   "id": "8eab9a5e",
   "metadata": {},
   "source": [
    "# Implementing Word2Vec"
   ]
  },
  {
   "cell_type": "code",
   "execution_count": 58,
   "id": "b2d9d0d1",
   "metadata": {},
   "outputs": [],
   "source": [
    "w2v = Word2Vec(words,min_count=1)\n",
    "# print(w2v)\n",
    "vector = w2v.wv['straight'] #finding vectors\n",
    "# print(vector)\n",
    "msw = w2v.wv.most_similar('straight') #most similar word\n",
    "# print(msw)"
   ]
  }
 ],
 "metadata": {
  "kernelspec": {
   "display_name": "Python 3 (ipykernel)",
   "language": "python",
   "name": "python3"
  },
  "language_info": {
   "codemirror_mode": {
    "name": "ipython",
    "version": 3
   },
   "file_extension": ".py",
   "mimetype": "text/x-python",
   "name": "python",
   "nbconvert_exporter": "python",
   "pygments_lexer": "ipython3",
   "version": "3.7.11"
  }
 },
 "nbformat": 4,
 "nbformat_minor": 5
}
