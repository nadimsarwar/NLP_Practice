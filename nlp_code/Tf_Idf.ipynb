{


 "cells": [
  {
   "cell_type": "markdown",
   "id": "ce3e3a7d",
   "metadata": {},
   "source": [
    "# Importing Libraries"
   ]
  },
  {
   "cell_type": "code",
   "execution_count": 8,
   "id": "b1711802",
   "metadata": {},
   "outputs": [],
   "source": [
    "import nltk\n",
    "import re\n",
    "from nltk.corpus import stopwords\n",
    "from nltk.stem import WordNetLemmatizer\n",
    "from sklearn.feature_extraction.text import TfidfVectorizer"
   ]
  },
  {
   "cell_type": "markdown",
   "id": "31345d9f",
   "metadata": {},
   "source": [
    "# Creating Objects"
   ]
  },
  {
   "cell_type": "code",
   "execution_count": 4,
   "id": "3c30a9e1",
   "metadata": {},
   "outputs": [],
   "source": [
    "wn = WordNetLemmatizer()\n",
    "cv = TfidfVectorizer()"
   ]
  },
  {
   "cell_type": "markdown",
   "id": "b9000bf0",
   "metadata": {},
   "source": [
    "# Paragraph"
   ]
  },
  {
   "cell_type": "code",
   "execution_count": 6,
   "id": "c6bef603",
   "metadata": {},
   "outputs": [],
   "source": [
    "para =  \"\"\"I have three visions for India. In 3000 years of our history, people from all over \n",
    "               the world have come and invaded us, captured our lands, conquered our minds. \n",
    "               From Alexander onwards, the Greeks, the Turks, the Moguls, the Portuguese, the British,\n",
    "               the French, the Dutch, all of them came and looted us, took over what was ours. \n",
    "               Yet we have not done this to any other nation. We have not conquered anyone. \n",
    "               We have not grabbed their land, their culture, \n",
    "               their history and tried to enforce our way of life on them. \n",
    "               Why? Because we respect the freedom of others.That is why my \n",
    "               first vision is that of freedom. I believe that India got its first vision of \n",
    "               this in 1857, when we started the War of Independence. It is this freedom that\n",
    "               we must protect and nurture and build on. If we are not free, no one will respect us.\n",
    "               My second vision for India’s development. For fifty years we have been a developing nation.\n",
    "               It is time we see ourselves as a developed nation. We are among the top 5 nations of the world\n",
    "               in terms of GDP. We have a 10 percent growth rate in most areas. Our poverty levels are falling.\n",
    "               Our achievements are being globally recognised today. Yet we lack the self-confidence to\n",
    "               see ourselves as a developed nation, self-reliant and self-assured. Isn’t this incorrect?\n",
    "               I have a third vision. India must stand up to the world. Because I believe that unless India \n",
    "               stands up to the world, no one will respect us. Only strength respects strength. We must be \n",
    "               strong not only as a military power but also as an economic power. Both must go hand-in-hand. \n",
    "               My good fortune was to have worked with three great minds. Dr. Vikram Sarabhai of the Dept. of \n",
    "               space, Professor Satish Dhawan, who succeeded him and Dr. Brahm Prakash, father of nuclear material.\n",
    "               I was lucky to have worked with all three of them closely and consider this the great opportunity of my life. \n",
    "               I see four milestones in my career\"\"\""
   ]
  },
  {
   "cell_type": "markdown",
   "id": "7c689e66",
   "metadata": {},
   "source": [
    "# Cleaning and saving in a list"
   ]
  },
  {
   "cell_type": "code",
   "execution_count": 17,
   "id": "d1a33965",
   "metadata": {},
   "outputs": [
    {
     "name": "stdout",
     "output_type": "stream",
     "text": [
      "I have three visions for India.\n",
      "I have three visions for India \n",
      "i have three visions for india \n",
      "['i', 'have', 'three', 'visions', 'for', 'india']\n",
      "['three', 'vision', 'india']\n",
      "three vision india\n",
      "['three vision india']\n"
     ]
    }
   ],
   "source": [
    "corpus = []\n",
    "sentences = nltk.sent_tokenize(para)\n",
    "for i in range(len(sentences)):\n",
    "#     print(sentences[i])\n",
    "    \n",
    "    review = re.sub('[^a-zA-Z]',' ',sentences[i])\n",
    "#     print(review)\n",
    "    \n",
    "    review = review.lower()\n",
    "#     print(review)\n",
    "    \n",
    "    review = review.split()\n",
    "#     print(review)\n",
    "    \n",
    "    review = [wn.lemmatize(word) for word in review if not word in set(stopwords.words('english'))]\n",
    "#     print(review)\n",
    "    \n",
    "    review = ' '.join(review)\n",
    "#     print(review)\n",
    "    \n",
    "    corpus.append(review)\n",
    "#     print(corpus)"
   ]
  },
  {
   "cell_type": "markdown",
   "id": "9d633370",
   "metadata": {},
   "source": [
    "# Applying Tf_Idf"
   ]
  },
  {
   "cell_type": "code",
   "execution_count": 18,
   "id": "c44aaf6d",
   "metadata": {},
   "outputs": [
    {
     "name": "stdout",
     "output_type": "stream",
     "text": [
      "[[0.57735027 0.57735027 0.57735027]]\n"
     ]
    }
   ],
   "source": [
    "arr = cv.fit_transform(corpus).toarray()\n",
    "print(arr)"
   ]
  }
 ],
 "metadata": {
  "kernelspec": {
   "display_name": "Python 3 (ipykernel)",
   "language": "python",
   "name": "python3"
  },
  "language_info": {
   "codemirror_mode": {
    "name": "ipython",
    "version": 3
   },
   "file_extension": ".py",
   "mimetype": "text/x-python",
   "name": "python",
   "nbconvert_exporter": "python",
   "pygments_lexer": "ipython3",
   "version": "3.7.11"
  }
 },
 "nbformat": 4,
 "nbformat_minor": 5
}
