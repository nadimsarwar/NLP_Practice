{
 "cells": [
  {
   "cell_type": "code",
   "execution_count": 7,
   "id": "6cd0559d",
   "metadata": {},
   "outputs": [
    {
     "name": "stdout",
     "output_type": "stream",
     "text": [
      "['When', 'we', 'are', 'faced', 'with', 'difficult', 'times', 'as', 'we', 'are', 'now', 'with', 'the', 'effects', 'of', 'a', 'worldwide', 'pandemic', ',', 'it', 'is', 'easy', 'to', 'get', 'discouraged', 'and', 'lose', 'hope', '.', 'Hope', 'is', 'a', 'vital', 'component', 'of', 'human', 'existence', ',', 'and', 'it', 'is', 'needed', 'to', 'find', 'happiness', 'and', 'peace', 'during', 'times', 'that', 'might', 'otherwise', 'lead', 'us', 'to', 'be', 'discouraged', '.', 'As', 'Andrew', 'Carnegie', 'so', 'clearly', 'pointed', 'out', ',', 'setting', 'a', 'goal', 'can', 'keep', 'your', 'thoughts', 'focused', ',', 'direct', 'your', 'energy', ',', 'and', 'inspire', 'the', 'hope', 'that', 'is', 'needed', 'to', 'move', 'through', 'and', 'beyond', 'a', 'moment', 'of', 'despair', '.', 'Have', 'you', 'ever', 'wondered', 'why', 'some', 'people', 'are', 'so', 'good', 'at', 'fulfilling', 'their', 'dreams', 'and', 'living', 'a', 'life', 'of', 'purpose', '?', 'What', 'is', 'their', '``', 'secret', 'sauce', \"''\", 'for', 'success', '?', 'Some', 'people', 'would', 'say', 'that', 'all', 'you', 'need', 'to', 'do', 'is', 'work', 'hard', 'to', 'achieve', 'what', 'you', 'want', 'in', 'life', '.', 'Some', 'people', 'think', 'it', \"'s\", 'about', 'who', 'you', 'know', 'or', 'what', 'you', 'have', '.', 'Yet', 'others', 'feel', 'there', 'are', 'those', 'born', 'with', 'access', 'and', 'that', 'they', 'are', 'given', 'all', 'the', 'breaks', 'in', 'life', '.', 'The', 'truth', 'is', ',', 'statistics', 'demonstrate', 'that', 'those', 'who', 'create', 'goals', 'and', 'have', 'a', 'regular', 'and', 'consistent', 'goal-setting', 'process', 'are', 'much', 'more', 'likely', 'to', 'achieve', 'their', 'life', '’', 's', 'dreams', '.', 'Regardless', 'of', 'how', 'hard', 'you', 'work', ',', 'if', 'you', 'are', 'aiming', 'for', 'the', 'wrong', 'dream', ',', 'then', 'all', 'that', 'effort', 'will', 'only', 'get', 'you', 'to', 'the', 'wrong', 'destination', 'faster', ',', 'and', 'that', 'would', 'be', 'extremely', 'disappointing', '.']\n"
     ]
    }
   ],
   "source": [
    "import nltk\n",
    "para = \"\"\"\n",
    "When we are faced with difficult times as we are now with the effects of a worldwide pandemic, it is easy to get discouraged and lose hope.  Hope is a vital component of human existence, and it is needed to find happiness and peace during times that might otherwise lead us to be discouraged.  As Andrew Carnegie so clearly pointed out, setting a goal can keep your thoughts focused, direct your energy, and inspire the hope that is needed to move through and beyond a moment of despair.\n",
    "\n",
    "Have you ever wondered why some people are so good at fulfilling their dreams and living a life of purpose? What is their \"secret sauce\" for success?\n",
    "\n",
    "Some people would say that all you need to do is work hard to achieve what you want in life. Some people think it's about who you know or what you have.  Yet others feel there are those born with access and that they are given all the breaks in life.  The truth is, statistics demonstrate that those who create goals and have a regular and consistent goal-setting process are much more likely to achieve their life’s dreams.\n",
    "\n",
    "Regardless of how hard you work, if you are aiming for the wrong dream, then all that effort will only get you to the wrong destination faster, and that would be extremely disappointing.\n",
    "\n",
    "\"\"\"\n",
    "sentence = nltk.sent_tokenize(para)\n",
    "words = nltk.word_tokenize(para)\n",
    "print(words)"
   ]
  },
  {
   "cell_type": "code",
   "execution_count": null,
   "id": "685d8bef",
   "metadata": {},
   "outputs": [],
   "source": []
  }
 ],
 "metadata": {
  "kernelspec": {
   "display_name": "Python 3 (ipykernel)",
   "language": "python",
   "name": "python3"
  },
  "language_info": {
   "codemirror_mode": {
    "name": "ipython",
    "version": 3
   },
   "file_extension": ".py",
   "mimetype": "text/x-python",
   "name": "python",
   "nbconvert_exporter": "python",
   "pygments_lexer": "ipython3",
   "version": "3.7.11"
  }
 },
 "nbformat": 4,
 "nbformat_minor": 5
}
