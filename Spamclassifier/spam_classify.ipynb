{
 "cells": [
  {
   "cell_type": "markdown",
   "id": "3c59939c",
   "metadata": {},
   "source": [
    "# importing libraries"
   ]
  },
  {
   "cell_type": "code",
   "execution_count": 53,
   "id": "4992b1a4",
   "metadata": {},
   "outputs": [],
   "source": [
    "import pandas as pd\n",
    "import nltk\n",
    "import re\n",
    "from nltk.corpus import stopwords\n",
    "from nltk.stem import WordNetLemmatizer\n",
    "from sklearn.feature_extraction.text import CountVectorizer\n",
    "from sklearn.model_selection import train_test_split\n",
    "from sklearn.naive_bayes import MultinomialNB\n",
    "from sklearn.metrics import confusion_matrix\n",
    "from sklearn.metrics import accuracy_score"
   ]
  },
  {
   "cell_type": "markdown",
   "id": "39545b84",
   "metadata": {},
   "source": [
    "# Reading Data"
   ]
  },
  {
   "cell_type": "code",
   "execution_count": 54,
   "id": "37f9f050",
   "metadata": {},
   "outputs": [],
   "source": [
    "message = pd.read_csv('SMSSpamCollection', sep='\\t', names=['label','messages'])\n",
    "# print(message)"
   ]
  },
  {
   "cell_type": "markdown",
   "id": "fff853d4",
   "metadata": {},
   "source": [
    "# Cleaning and Saving in a list"
   ]
  },
  {
   "cell_type": "code",
   "execution_count": 55,
   "id": "2eb7ff66",
   "metadata": {},
   "outputs": [],
   "source": [
    "wordnet = WordNetLemmatizer()\n",
    "corpus = []\n",
    "\n",
    "for i in range(0, len(message)):\n",
    "#     print(message['messages'][i])\n",
    "    \n",
    "    review = re.sub('[^a-zA-Z]',' ',message['messages'][i])\n",
    "#     print(review)\n",
    "    \n",
    "    review = review.lower()\n",
    "#     print(review)\n",
    "    \n",
    "    review = review.split()\n",
    "#     print(review)\n",
    "    \n",
    "    review = [wordnet.lemmatize(word) for word in review if not word in set(stopwords.words('english'))]\n",
    "#     print(review)\n",
    "    \n",
    "    review = ' '.join(review)\n",
    "#     print(review)\n",
    "    \n",
    "    corpus.append(review)\n",
    "#     print(corpus)"
   ]
  },
  {
   "cell_type": "markdown",
   "id": "81e9fb0d",
   "metadata": {},
   "source": [
    "# Applying Bag_of_Words"
   ]
  },
  {
   "cell_type": "code",
   "execution_count": 56,
   "id": "67fb45fd",
   "metadata": {},
   "outputs": [],
   "source": [
    "cv = CountVectorizer()\n",
    "X_arr = cv.fit_transform(corpus).toarray()\n",
    "\n",
    "y=pd.get_dummies(messages['label'])\n",
    "y_arr=y.iloc[:,1].values\n",
    "\n",
    "# print(X)"
   ]
  },
  {
   "cell_type": "markdown",
   "id": "4a57ef4d",
   "metadata": {},
   "source": [
    "# Train test split"
   ]
  },
  {
   "cell_type": "code",
   "execution_count": 61,
   "id": "d6c515b3",
   "metadata": {},
   "outputs": [
    {
     "name": "stdout",
     "output_type": "stream",
     "text": [
      "(4457, 7098)\n",
      "(4457,)\n",
      "(1115, 7098)\n",
      "(1115,)\n"
     ]
    }
   ],
   "source": [
    "X_train, X_test, y_train, y_test = train_test_split(X_arr, y_arr, test_size = 0.20, random_state = 0)\n",
    "\n",
    "print(X_train.shape)\n",
    "print(y_train.shape)\n",
    "print(X_test.shape)\n",
    "print(y_test.shape)"
   ]
  },
  {
   "cell_type": "markdown",
   "id": "db786e39",
   "metadata": {},
   "source": [
    "# Training model using Naive bayes classifier"
   ]
  },
  {
   "cell_type": "code",
   "execution_count": 60,
   "id": "acb56ec2",
   "metadata": {},
   "outputs": [],
   "source": [
    "model_fit =  MultinomialNB().fit(X_train, y_train)"
   ]
  },
  {
   "cell_type": "markdown",
   "id": "6c314187",
   "metadata": {},
   "source": [
    "# predicting"
   ]
  },
  {
   "cell_type": "code",
   "execution_count": 63,
   "id": "7f2fac04",
   "metadata": {},
   "outputs": [],
   "source": [
    "pred = model_fit.predict(X_test)\n",
    "# print(pred)"
   ]
  },
  {
   "cell_type": "markdown",
   "id": "e7eda88b",
   "metadata": {},
   "source": [
    "# confusion Matrix"
   ]
  },
  {
   "cell_type": "code",
   "execution_count": 67,
   "id": "b7fc82f1",
   "metadata": {},
   "outputs": [
    {
     "name": "stdout",
     "output_type": "stream",
     "text": [
      "[[936  19]\n",
      " [  7 153]]\n"
     ]
    }
   ],
   "source": [
    "conf_matrix = confusion_matrix(y_test,pred)\n",
    "print(conf_matrix)"
   ]
  },
  {
   "cell_type": "markdown",
   "id": "7c0de825",
   "metadata": {},
   "source": [
    "# Accuracy"
   ]
  },
  {
   "cell_type": "code",
   "execution_count": 66,
   "id": "393065b3",
   "metadata": {},
   "outputs": [
    {
     "name": "stdout",
     "output_type": "stream",
     "text": [
      "0.9766816143497757\n"
     ]
    }
   ],
   "source": [
    "acc = accuracy_score(y_test,pred)\n",
    "print(acc)"
   ]
  },
  {
   "cell_type": "code",
   "execution_count": null,
   "id": "6247a642",
   "metadata": {},
   "outputs": [],
   "source": []
  }
 ],
 "metadata": {
  "kernelspec": {
   "display_name": "Python 3 (ipykernel)",
   "language": "python",
   "name": "python3"
  },
  "language_info": {
   "codemirror_mode": {
    "name": "ipython",
    "version": 3
   },
   "file_extension": ".py",
   "mimetype": "text/x-python",
   "name": "python",
   "nbconvert_exporter": "python",
   "pygments_lexer": "ipython3",
   "version": "3.7.11"
  }
 },
 "nbformat": 4,
 "nbformat_minor": 5
}
